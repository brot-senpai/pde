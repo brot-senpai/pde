{
  "nbformat": 4,
  "nbformat_minor": 0,
  "metadata": {
    "colab": {
      "name": "pde",
      "provenance": [],
      "collapsed_sections": [],
      "mount_file_id": "1cEvQXJ0O3hjOpP3gkiRfkOfu0OClkjJs",
      "authorship_tag": "ABX9TyPdeVjUyzs7omceKfoEXeC0",
      "include_colab_link": true
    },
    "kernelspec": {
      "name": "python3",
      "display_name": "Python 3"
    }
  },
  "cells": [
    {
      "cell_type": "markdown",
      "metadata": {
        "id": "view-in-github",
        "colab_type": "text"
      },
      "source": [
        "<a href=\"https://colab.research.google.com/github/brot-senpai/pde/blob/main/pde.ipynb\" target=\"_parent\"><img src=\"https://colab.research.google.com/assets/colab-badge.svg\" alt=\"Open In Colab\"/></a>"
      ]
    },
    {
      "cell_type": "code",
      "metadata": {
        "id": "eJrogLreX4O0",
        "colab": {
          "base_uri": "https://localhost:8080/"
        },
        "outputId": "9d4a892a-8e53-443d-816b-ce296aba44f5"
      },
      "source": [
        "#mount your google drive. https://colab.research.google.com/notebooks/io.ipynb\n",
        "from google.colab import drive\n",
        "drive.mount('/content/drive', force_remount=True)"
      ],
      "execution_count": null,
      "outputs": [
        {
          "output_type": "stream",
          "text": [
            "Mounted at /content/drive\n"
          ],
          "name": "stdout"
        }
      ]
    },
    {
      "cell_type": "code",
      "metadata": {
        "id": "yOQ3fNy_X3us"
      },
      "source": [
        "#change directory to your drive and clone repo\n",
        "%cd /content/drive/MyDrive/\n",
        "!git clone https://github.com/brot-senpai/pde.git #git push if already have repo"
      ],
      "execution_count": null,
      "outputs": []
    },
    {
      "cell_type": "code",
      "metadata": {
        "id": "QDqBecN43FCw"
      },
      "source": [
        "#copy loader to working directory\n",
        "!cp /content/drive/MyDrive/pde/babylonloader.py ."
      ],
      "execution_count": 1,
      "outputs": []
    },
    {
      "cell_type": "code",
      "metadata": {
        "id": "Y_D4LIYk3oMU"
      },
      "source": [
        "from babylonloader import Babylon\n",
        "from IPython.display import HTML\n"
      ],
      "execution_count": 2,
      "outputs": []
    },
    {
      "cell_type": "code",
      "metadata": {
        "id": "5p6Y9NPx37b-"
      },
      "source": [
        "babylon = Babylon(backgroundColor=(1,1,1))"
      ],
      "execution_count": 3,
      "outputs": []
    },
    {
      "cell_type": "code",
      "metadata": {
        "colab": {
          "base_uri": "https://localhost:8080/",
          "height": 630
        },
        "id": "QUVxjaEbMfBO",
        "outputId": "d8f8e435-b1de-4150-babe-6a605b0f89e3"
      },
      "source": [
        "\r\n",
        "display(HTML(babylon.header()))\r\n",
        "display(HTML(babylon.scene()))\r\n",
        "display(HTML(babylon.showAxis()))\r\n"
      ],
      "execution_count": 4,
      "outputs": [
        {
          "output_type": "display_data",
          "data": {
            "text/html": [
              "\n",
              "\t\t<head>\n",
              "      <meta http-equiv=\"Content-Type\" content=\"text/html; charset=utf-8\" />\n",
              "\n",
              "      <script src=\"https://code.jquery.com/pep/0.4.2/pep.min.js\"></script>\n",
              "      <script src=\"https://cdnjs.cloudflare.com/ajax/libs/dat-gui/0.6.2/dat.gui.min.js\"></script>\n",
              "      <script src=\"https://preview.babylonjs.com/ammo.js\"></script>\n",
              "      <script src=\"https://preview.babylonjs.com/cannon.js\"></script>\n",
              "      <script src=\"https://preview.babylonjs.com/Oimo.js\"></script>\n",
              "      <script src=\"https://preview.babylonjs.com/earcut.min.js\"></script>\n",
              "      <script src=\"https://preview.babylonjs.com/babylon.js\"></script>\n",
              "      <script src=\"https://preview.babylonjs.com/materialsLibrary/babylonjs.materials.min.js\"></script>\n",
              "      <script src=\"https://preview.babylonjs.com/proceduralTexturesLibrary/babylonjs.proceduralTextures.min.js\"></script>\n",
              "      <script src=\"https://preview.babylonjs.com/postProcessesLibrary/babylonjs.postProcess.min.js\"></script>\n",
              "      <script src=\"https://preview.babylonjs.com/loaders/babylonjs.loaders.js\"></script>\n",
              "      <script src=\"https://preview.babylonjs.com/serializers/babylonjs.serializers.min.js\"></script>\n",
              "      <script src=\"https://preview.babylonjs.com/gui/babylon.gui.min.js\"></script>\n",
              "      <script src=\"https://preview.babylonjs.com/inspector/babylon.inspector.bundle.js\"></script>\n",
              "\n",
              "    \t<style>\n",
              "        html, body {\n",
              "          overflow: hidden;\n",
              "          width: 100%;\n",
              "          height: 100%;\n",
              "          margin: 0;\n",
              "          padding: 0;\n",
              "        }\n",
              "\n",
              "        #renderCanvas {\n",
              "          width: 100%;\n",
              "          height: 100%;\n",
              "          touch-action: none;\n",
              "            }\n",
              "      </style>\n",
              "    </head>\n",
              "  "
            ],
            "text/plain": [
              "<IPython.core.display.HTML object>"
            ]
          },
          "metadata": {
            "tags": []
          }
        },
        {
          "output_type": "display_data",
          "data": {
            "text/html": [
              "\n",
              "\t\t<canvas id=\"renderCanvas\"></canvas>\n",
              "      \n",
              "    <script type=\"text/javascript\">\n",
              "          \n",
              "    var canvas = document.getElementById(\"renderCanvas\");\n",
              "\n",
              "    var engine = null;\n",
              "    var scene = null;\n",
              "    var sceneToRender = null;\n",
              "    var createDefaultEngine = function() { return new BABYLON.Engine(canvas, \n",
              "      true, { preserveDrawingBuffer: true, stencil: true,  \n",
              "      disableWebGL2Support: false}); };\n",
              "    const createScene = function () {\n",
              "      const scene = new BABYLON.Scene(engine);\n",
              "      scene.clearColor = new BABYLON.Color3(1, 1, 1);\n",
              "      const camera = new BABYLON.ArcRotateCamera(\"Camera\", 3 * Math.PI / 2, \n",
              "        3 * Math.PI / 8, 30, new BABYLON.Vector3.Zero(), scene)\n",
              "      camera.attachControl(canvas, true);\n",
              "      const light = new BABYLON.HemisphericLight(\"light\", \n",
              "      new BABYLON.Vector3(1, 1, 0), scene);\n",
              "\n",
              "      \n",
              "      return scene;\n",
              "\n",
              "    };\n",
              "\n",
              "    var engine;\n",
              "    var scene;\n",
              "    initFunction = async function() {               \n",
              "      var asyncEngineCreation = async function() {\n",
              "      try {\n",
              "        return createDefaultEngine();\n",
              "        } catch(e) {\n",
              "        console.log(\"the available createEngine function failed. Creating the default engine instead\");\n",
              "        return createDefaultEngine();\n",
              "        }\n",
              "      }\n",
              "\n",
              "      engine = await asyncEngineCreation();\n",
              "      if (!engine) throw 'engine should not be null.';\n",
              "    \tscene = createScene();};\n",
              "      initFunction().then(() => {sceneToRender = scene        \n",
              "        engine.runRenderLoop(function () {\n",
              "        if (sceneToRender && sceneToRender.activeCamera) {\n",
              "        sceneToRender.render();\n",
              "          }\n",
              "      });\n",
              "      });\n",
              "\n",
              "      \n",
              "      window.addEventListener(\"resize\", function () {\n",
              "          engine.resize();\n",
              "        });\n",
              "    \n",
              "    </script>\n",
              "\t\t"
            ],
            "text/plain": [
              "<IPython.core.display.HTML object>"
            ]
          },
          "metadata": {
            "tags": []
          }
        },
        {
          "output_type": "display_data",
          "data": {
            "text/html": [
              "\n",
              "      <script>\n",
              "      var psize = 1;\n",
              "      \n",
              "      var gridGen =(props)=>{\n",
              "        var {scene, psize} = props;\n",
              "        var grid = new BABYLON.GridMaterial(\"grid\", scene);\t\n",
              "        grid.gridRatio = 1;\n",
              "        grid.opacity = 0.99;\n",
              "        grid.lineColor = new BABYLON.Color3.Gray();\n",
              "\n",
              "        const xPlane = new BABYLON.Plane.FromPositionAndNormal(new BABYLON.Vector3(0, 0, 0), new BABYLON.Vector3(1, 0, 0));\n",
              "        const yPlane = new BABYLON.Plane.FromPositionAndNormal(new BABYLON.Vector3(0, 0, 0), new BABYLON.Vector3(0, 1, 0));\n",
              "        const zPlane = new BABYLON.Plane.FromPositionAndNormal(new BABYLON.Vector3(0, 0, 0), new BABYLON.Vector3(0, 0, 1));\n",
              "        var planex = new BABYLON.MeshBuilder.CreatePlane(\"planex\", {size: psize, sourcePlane: xPlane, sideOrientation: BABYLON.Mesh.DOUBLESIDE});\n",
              "        var planey = new BABYLON.MeshBuilder.CreatePlane(\"planey\", {size: psize, sourcePlane: yPlane, sideOrientation: BABYLON.Mesh.DOUBLESIDE});\n",
              "        var planez = new BABYLON.MeshBuilder.CreatePlane(\"planez\", {size: psize, sourcePlane: zPlane, sideOrientation: BABYLON.Mesh.DOUBLESIDE});\n",
              "        \n",
              "        planex.material = grid;\n",
              "        planey.material = grid;\n",
              "        planez.material = grid;\n",
              "        return [planex, planey, planez, grid];\n",
              "    }\n",
              "\n",
              "      var showAxis = function(size) {\n",
              "      var makeTextPlane = function(text, color, size) {\n",
              "      var dynamicTexture = new BABYLON.DynamicTexture(\"DynamicTexture\", 50, scene, true);\n",
              "      dynamicTexture.hasAlpha = true;\n",
              "      dynamicTexture.drawText(text, 5, 40, \"bold 36px Arial\", color , \"transparent\", true);\n",
              "      var plane = new BABYLON.Mesh.CreatePlane(\"TextPlane\", size, scene, true);\n",
              "      plane.material = new BABYLON.StandardMaterial(\"TextPlaneMaterial\", scene);\n",
              "      plane.material.backFaceCulling = false;\n",
              "      plane.material.specularColor = new BABYLON.Color3(0, 0, 0);\n",
              "      plane.material.diffuseTexture = dynamicTexture;\n",
              "      return plane;\n",
              "      };\n",
              "    \n",
              "      var axisX = BABYLON.Mesh.CreateLines(\"axisX\", [ \n",
              "        new BABYLON.Vector3.Zero(), new BABYLON.Vector3(size, 0, 0), new BABYLON.Vector3(size * 0.95, 0.05 * size, 0), \n",
              "        new BABYLON.Vector3(size, 0, 0), new BABYLON.Vector3(size * 0.95, -0.05 * size, 0)\n",
              "        ], scene);\n",
              "      axisX.color = new BABYLON.Color3(1, 0, 0);\n",
              "      var xChar = makeTextPlane(\"X\", \"red\", size / 10);\n",
              "      xChar.position = new BABYLON.Vector3(0.9 * size, -0.05 * size, 0);\n",
              "      var axisY = BABYLON.Mesh.CreateLines(\"axisY\", [\n",
              "          new BABYLON.Vector3.Zero(), new BABYLON.Vector3(0, size, 0), new BABYLON.Vector3( -0.05 * size, size * 0.95, 0), \n",
              "          new BABYLON.Vector3(0, size, 0), new BABYLON.Vector3( 0.05 * size, size * 0.95, 0)\n",
              "          ], scene);\n",
              "      axisY.color = new BABYLON.Color3(0, 1, 0);\n",
              "      var yChar = makeTextPlane(\"Y\", \"green\", size / 10);\n",
              "      yChar.position = new BABYLON.Vector3(0, 0.9 * size, -0.05 * size);\n",
              "      var axisZ = BABYLON.Mesh.CreateLines(\"axisZ\", [\n",
              "          new BABYLON.Vector3.Zero(), new BABYLON.Vector3(0, 0, size), new BABYLON.Vector3( 0 , -0.05 * size, size * 0.95),\n",
              "          new BABYLON.Vector3(0, 0, size), new BABYLON.Vector3( 0, 0.05 * size, size * 0.95)\n",
              "          ], scene);\n",
              "      axisZ.color = new BABYLON.Color3(0, 0, 1);\n",
              "      var zChar = makeTextPlane(\"Z\", \"blue\", size / 10);\n",
              "      zChar.position = new BABYLON.Vector3(0, 0.05 * size, 0.9 * size);\n",
              "    \n",
              "\n",
              "    var planes = gridGen({scene, psize});\n",
              "    var planex = planes[0];\n",
              "    var planey = planes[1];\n",
              "    var planez = planes[2];\n",
              "    var grid = planes[3];\n",
              "\n",
              "    var advancedTexture = BABYLON.GUI.AdvancedDynamicTexture.CreateFullscreenUI(\"UI\", true, scene);\n",
              "    var slider = new BABYLON.GUI.Slider();\n",
              "        slider.minimum = 1;\n",
              "        slider.maximum = 100;\n",
              "        slider.value = 1;\n",
              "        slider.height = \"20px\";\n",
              "        slider.width = \"200px\";\n",
              "        slider.color = \"#003399\";\n",
              "        slider.background = \"grey\";\n",
              "        slider.top= \"20px\";\n",
              "        slider.horizontalAlignment = BABYLON.GUI.Control.HORIZONTAL_ALIGNMENT_CENTER;\n",
              "        slider.verticalAlignment = BABYLON.GUI.Control.VERTICAL_ALIGNMENT_TOP;\n",
              "        slider.onValueChangedObservable.add(function (value) {\n",
              "            axisX.scaling.x = value/2;\n",
              "            axisY.scaling.y = value/2;\n",
              "            axisZ.scaling.z = value/2;\n",
              "            grid.gridRatio = 1/value;\n",
              "            planex.scaling.x = value;\n",
              "            planex.scaling.y = value;\n",
              "            planey.scaling.y = value;\n",
              "            planey.scaling.x = value;\n",
              "            planez.scaling.y = value;\n",
              "            planez.scaling.x = value;\n",
              "            planex.position.z =value/2;\n",
              "            planey.position.z = value/2\n",
              "            planez.position.z = value;\n",
              "            xChar.scaling.x = value/2;\n",
              "            xChar.scaling.y = value/2;\n",
              "            xChar.position.x = value/2;\n",
              "            yChar.scaling.x = value/2;\n",
              "            yChar.scaling.y = value/2;\n",
              "            yChar.position.y = value/2;\n",
              "            zChar.scaling.x = value/2;\n",
              "            zChar.scaling.y = value/2;\n",
              "            zChar.position.x = value/1.85;\n",
              "            zChar.position.z = value;        \n",
              "            \n",
              "            \n",
              "        });\n",
              "    \n",
              "    advancedTexture.addControl(slider);\n",
              "    };\n",
              "    showAxis(psize);\n",
              "      </script>\n",
              "      "
            ],
            "text/plain": [
              "<IPython.core.display.HTML object>"
            ]
          },
          "metadata": {
            "tags": []
          }
        }
      ]
    }
  ]
}